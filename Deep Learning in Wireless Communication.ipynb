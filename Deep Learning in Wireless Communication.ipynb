{
 "cells": [
  {
   "cell_type": "code",
   "execution_count": null,
   "id": "420248c9",
   "metadata": {
    "scrolled": true
   },
   "outputs": [],
   "source": []
  },
  {
   "cell_type": "code",
   "execution_count": 40,
   "id": "4f34ea97",
   "metadata": {},
   "outputs": [],
   "source": [
    "# importing libs\n",
    "import numpy as np\n",
    "import tensorflow as tf\n",
    "from keras.layers import Input, Dense, GaussianNoise\n",
    "from keras.models import Model\n",
    "from keras import regularizers\n",
    "from tensorflow.keras.models import Sequential\n",
    "from tensorflow.keras.layers import BatchNormalization\n",
    "from tensorflow.keras.optimizers import SGD\n",
    "import random as rn"
   ]
  },
  {
   "cell_type": "code",
   "execution_count": 41,
   "id": "818bec12",
   "metadata": {},
   "outputs": [
    {
     "name": "stdout",
     "output_type": "stream",
     "text": [
      "M: 16 k: 4\n"
     ]
    }
   ],
   "source": [
    "#defining parameters\n",
    "M=16\n",
    "k=np.log2(M)\n",
    "k=int(k)\n",
    "print('M:',M,'k:',k)"
   ]
  },
  {
   "cell_type": "code",
   "execution_count": 42,
   "id": "7f5b6ad4",
   "metadata": {},
   "outputs": [],
   "source": [
    "#generating data of size N\n",
    "N=10000\n",
    "label = np.random.randint(M,size=N)"
   ]
  },
  {
   "cell_type": "code",
   "execution_count": 43,
   "id": "0ea431ef",
   "metadata": {},
   "outputs": [],
   "source": [
    "#created one hot coded Vector\n",
    "data = []\n",
    "for i in label:\n",
    "  temp = np.zeros(M)\n",
    "  temp[i]=1\n",
    "  data.append(temp)"
   ]
  },
  {
   "cell_type": "code",
   "execution_count": 44,
   "id": "fe534fbe",
   "metadata": {},
   "outputs": [
    {
     "name": "stdout",
     "output_type": "stream",
     "text": [
      "(10000, 16)\n"
     ]
    }
   ],
   "source": [
    "data =np.array(data)\n",
    "print(data.shape)"
   ]
  },
  {
   "cell_type": "code",
   "execution_count": 45,
   "id": "063a3769",
   "metadata": {
    "scrolled": true
   },
   "outputs": [
    {
     "name": "stdout",
     "output_type": "stream",
     "text": [
      "15 [0. 0. 0. 0. 0. 0. 0. 0. 0. 0. 0. 0. 0. 0. 0. 1.]\n",
      "11 [0. 0. 0. 0. 0. 0. 0. 0. 0. 0. 0. 1. 0. 0. 0. 0.]\n",
      "13 [0. 0. 0. 0. 0. 0. 0. 0. 0. 0. 0. 0. 0. 1. 0. 0.]\n",
      "8 [0. 0. 0. 0. 0. 0. 0. 0. 1. 0. 0. 0. 0. 0. 0. 0.]\n",
      "2 [0. 0. 1. 0. 0. 0. 0. 0. 0. 0. 0. 0. 0. 0. 0. 0.]\n",
      "15 [0. 0. 0. 0. 0. 0. 0. 0. 0. 0. 0. 0. 0. 0. 0. 1.]\n",
      "12 [0. 0. 0. 0. 0. 0. 0. 0. 0. 0. 0. 0. 1. 0. 0. 0.]\n",
      "2 [0. 0. 1. 0. 0. 0. 0. 0. 0. 0. 0. 0. 0. 0. 0. 0.]\n",
      "11 [0. 0. 0. 0. 0. 0. 0. 0. 0. 0. 0. 1. 0. 0. 0. 0.]\n"
     ]
    }
   ],
   "source": [
    "temp_check = [17,23,45,67,89,96,72,250,350]\n",
    "for i in temp_check:\n",
    "  print(label[i],data[i])"
   ]
  },
  {
   "cell_type": "code",
   "execution_count": 46,
   "id": "9a6c1b20",
   "metadata": {},
   "outputs": [
    {
     "name": "stdout",
     "output_type": "stream",
     "text": [
      "7\n"
     ]
    }
   ],
   "source": [
    "R = 4/7 #communication rate of the system.\n",
    "n_channel=7\n",
    "print(int(k/R))#print the number of channel used.\n",
    "input_signal = Input(shape=(M,)) \n",
    "encoded = Dense(M,activation='relu')(input_signal)\n",
    "encoded1= Dense(n_channel,activation='linear')(encoded)\n",
    "encoded2= BatchNormalization()(encoded1)\n",
    "\n",
    "EbNo_train = 5.01187 # convert 7db of EbNo\n",
    "encoded3= GaussianNoise(np.sqrt(1/(2*R*EbNo_train)))(encoded2)\n",
    "\n",
    "decoded = Dense(M,activation='relu')(encoded3)\n",
    "decoded1 = Dense(M,activation='softmax')(decoded)\n",
    "\n",
    "autoencoder = Model(input_signal,decoded1)\n",
    "#sgd = SGD(learning rate = 0.001)\n",
    "autoencoder.compile(optimizer = 'adam',loss = 'categorical_crossentropy')"
   ]
  },
  {
   "cell_type": "code",
   "execution_count": 47,
   "id": "133c5466",
   "metadata": {},
   "outputs": [
    {
     "name": "stdout",
     "output_type": "stream",
     "text": [
      "Model: \"model_4\"\n",
      "_________________________________________________________________\n",
      " Layer (type)                Output Shape              Param #   \n",
      "=================================================================\n",
      " input_4 (InputLayer)        [(None, 16)]              0         \n",
      "                                                                 \n",
      " dense_8 (Dense)             (None, 16)                272       \n",
      "                                                                 \n",
      " dense_9 (Dense)             (None, 7)                 119       \n",
      "                                                                 \n",
      " batch_normalization_2 (Batc  (None, 7)                28        \n",
      " hNormalization)                                                 \n",
      "                                                                 \n",
      " gaussian_noise_2 (GaussianN  (None, 7)                0         \n",
      " oise)                                                           \n",
      "                                                                 \n",
      " dense_10 (Dense)            (None, 16)                128       \n",
      "                                                                 \n",
      " dense_11 (Dense)            (None, 16)                272       \n",
      "                                                                 \n",
      "=================================================================\n",
      "Total params: 819\n",
      "Trainable params: 805\n",
      "Non-trainable params: 14\n",
      "_________________________________________________________________\n",
      "None\n"
     ]
    }
   ],
   "source": [
    "print(autoencoder.summary())"
   ]
  },
  {
   "cell_type": "code",
   "execution_count": 48,
   "id": "cc373948",
   "metadata": {},
   "outputs": [],
   "source": [
    "N_val = 1500\n",
    "val_label = np.random.randint(M,size=N_val)\n",
    "val_data = []\n",
    "for i in val_label:\n",
    "    temp = np.zeros(M)\n",
    "    temp[i] = 1\n",
    "    val_data.append(temp)\n",
    "val_data = np.array(val_data)"
   ]
  },
  {
   "cell_type": "code",
   "execution_count": 49,
   "id": "9130b0e6",
   "metadata": {},
   "outputs": [
    {
     "name": "stdout",
     "output_type": "stream",
     "text": [
      "Epoch 1/17\n",
      "34/34 [==============================] - 1s 13ms/step - loss: 2.5496 - val_loss: 2.6530\n",
      "Epoch 2/17\n",
      "34/34 [==============================] - 0s 5ms/step - loss: 2.0801 - val_loss: 2.5258\n",
      "Epoch 3/17\n",
      "34/34 [==============================] - 0s 5ms/step - loss: 1.7165 - val_loss: 2.3494\n",
      "Epoch 4/17\n",
      "34/34 [==============================] - 0s 5ms/step - loss: 1.3822 - val_loss: 2.1004\n",
      "Epoch 5/17\n",
      "34/34 [==============================] - 0s 5ms/step - loss: 1.0765 - val_loss: 1.8025\n",
      "Epoch 6/17\n",
      "34/34 [==============================] - 0s 5ms/step - loss: 0.8020 - val_loss: 1.4693\n",
      "Epoch 7/17\n",
      "34/34 [==============================] - 0s 6ms/step - loss: 0.5694 - val_loss: 1.1162\n",
      "Epoch 8/17\n",
      "34/34 [==============================] - 0s 6ms/step - loss: 0.3937 - val_loss: 0.7925\n",
      "Epoch 9/17\n",
      "34/34 [==============================] - 0s 5ms/step - loss: 0.2793 - val_loss: 0.5268\n",
      "Epoch 10/17\n",
      "34/34 [==============================] - 0s 5ms/step - loss: 0.2015 - val_loss: 0.3336\n",
      "Epoch 11/17\n",
      "34/34 [==============================] - 0s 5ms/step - loss: 0.1462 - val_loss: 0.2069\n",
      "Epoch 12/17\n",
      "34/34 [==============================] - 0s 5ms/step - loss: 0.1128 - val_loss: 0.1305\n",
      "Epoch 13/17\n",
      "34/34 [==============================] - 0s 5ms/step - loss: 0.0884 - val_loss: 0.0843\n",
      "Epoch 14/17\n",
      "34/34 [==============================] - 0s 5ms/step - loss: 0.0711 - val_loss: 0.0563\n",
      "Epoch 15/17\n",
      "34/34 [==============================] - 0s 5ms/step - loss: 0.0587 - val_loss: 0.0403\n",
      "Epoch 16/17\n",
      "34/34 [==============================] - 0s 5ms/step - loss: 0.0489 - val_loss: 0.0296\n",
      "Epoch 17/17\n",
      "34/34 [==============================] - 0s 5ms/step - loss: 0.0416 - val_loss: 0.0228\n"
     ]
    },
    {
     "data": {
      "text/plain": [
       "<keras.callbacks.History at 0x23d1a71aa00>"
      ]
     },
     "execution_count": 49,
     "metadata": {},
     "output_type": "execute_result"
    }
   ],
   "source": [
    "autoencoder.fit(data, data,\n",
    "                epochs=17,\n",
    "                batch_size=300,\n",
    "                validation_data=(val_data, val_data))"
   ]
  },
  {
   "cell_type": "code",
   "execution_count": 64,
   "id": "1b8a4d3f",
   "metadata": {},
   "outputs": [
    {
     "name": "stdout",
     "output_type": "stream",
     "text": [
      "INFO:tensorflow:Assets written to: 4_7_symbol_autoencoder_v_best.model\\assets\n"
     ]
    }
   ],
   "source": [
    "from keras.models import load_model\n",
    "autoencoder.save('4_7_symbol_autoencoder_v_best.model')"
   ]
  },
  {
   "cell_type": "code",
   "execution_count": 65,
   "id": "3a724d25",
   "metadata": {},
   "outputs": [],
   "source": [
    "autoencoder_loaded = load_model('4_7_symbol_autoencoder_v_best.model')"
   ]
  },
  {
   "cell_type": "code",
   "execution_count": 66,
   "id": "64a02425",
   "metadata": {},
   "outputs": [],
   "source": [
    "encoder = Model(input_signal, encoded2)"
   ]
  },
  {
   "cell_type": "code",
   "execution_count": 67,
   "id": "04ab2be1",
   "metadata": {},
   "outputs": [],
   "source": [
    "encoded_input = Input(shape=(n_channel,))\n",
    "\n",
    "deco = autoencoder.layers[-2](encoded_input)\n",
    "deco = autoencoder.layers[-1](deco)\n",
    "# create the decoder model\n",
    "decoder = Model(encoded_input, deco)"
   ]
  },
  {
   "cell_type": "code",
   "execution_count": 68,
   "id": "aa5fa62f",
   "metadata": {},
   "outputs": [],
   "source": [
    "N = 45000\n",
    "test_label = np.random.randint(M,size=N)\n",
    "test_data = []\n",
    "\n",
    "for i in test_label:\n",
    "    temp = np.zeros(M)\n",
    "    temp[i] = 1\n",
    "    test_data.append(temp)\n",
    "    \n",
    "test_data = np.array(test_data)"
   ]
  },
  {
   "cell_type": "code",
   "execution_count": 69,
   "id": "305fcd43",
   "metadata": {},
   "outputs": [
    {
     "name": "stdout",
     "output_type": "stream",
     "text": [
      "1.0 4\n"
     ]
    }
   ],
   "source": [
    "temp_test = 6\n",
    "print (test_data[temp_test][test_label[temp_test]],test_label[temp_test])"
   ]
  },
  {
   "cell_type": "code",
   "execution_count": 70,
   "id": "cd384b0a",
   "metadata": {},
   "outputs": [
    {
     "data": {
      "text/plain": [
       "<keras.engine.functional.Functional at 0x23d1d05b970>"
      ]
     },
     "execution_count": 70,
     "metadata": {},
     "output_type": "execute_result"
    }
   ],
   "source": [
    "autoencoder"
   ]
  },
  {
   "cell_type": "code",
   "execution_count": 71,
   "id": "79b188c9",
   "metadata": {},
   "outputs": [],
   "source": [
    "def frange(x, y, jump):\n",
    "  while x < y:\n",
    "    yield x\n",
    "    x += jump"
   ]
  },
  {
   "cell_type": "code",
   "execution_count": 72,
   "id": "3db6748e",
   "metadata": {},
   "outputs": [
    {
     "name": "stdout",
     "output_type": "stream",
     "text": [
      "SNR: -4 BER: 0.34357777777777776\n",
      "SNR: -3.5 BER: 0.3050888888888889\n",
      "SNR: -3.0 BER: 0.27113333333333334\n",
      "SNR: -2.5 BER: 0.23366666666666666\n",
      "SNR: -2.0 BER: 0.19882222222222223\n",
      "SNR: -1.5 BER: 0.16468888888888888\n",
      "SNR: -1.0 BER: 0.1338888888888889\n",
      "SNR: -0.5 BER: 0.1053111111111111\n",
      "SNR: 0.0 BER: 0.08093333333333333\n",
      "SNR: 0.5 BER: 0.06246666666666666\n",
      "SNR: 1.0 BER: 0.04504444444444444\n",
      "SNR: 1.5 BER: 0.030955555555555556\n",
      "SNR: 2.0 BER: 0.021622222222222223\n",
      "SNR: 2.5 BER: 0.014044444444444444\n",
      "SNR: 3.0 BER: 0.009266666666666666\n",
      "SNR: 3.5 BER: 0.005688888888888889\n",
      "SNR: 4.0 BER: 0.002688888888888889\n",
      "SNR: 4.5 BER: 0.0018666666666666666\n",
      "SNR: 5.0 BER: 0.0006888888888888888\n",
      "SNR: 5.5 BER: 0.0004888888888888889\n",
      "SNR: 6.0 BER: 6.666666666666667e-05\n",
      "SNR: 6.5 BER: 8.888888888888889e-05\n",
      "SNR: 7.0 BER: 2.2222222222222223e-05\n",
      "SNR: 7.5 BER: 4.4444444444444447e-05\n",
      "SNR: 8.0 BER: 0.0\n"
     ]
    }
   ],
   "source": [
    "EbNodB_range = list(frange(-4,8.5,0.5))\n",
    "ber = [None]*len(EbNodB_range)\n",
    "for n in range(0,len(EbNodB_range)):\n",
    "    EbNo=10.0**(EbNodB_range[n]/10.0)\n",
    "    noise_std = np.sqrt(1/(2*R*EbNo))\n",
    "    noise_mean = 0\n",
    "    no_errors = 0\n",
    "    nn = N\n",
    "    noise = noise_std * np.random.randn(nn,n_channel)\n",
    "    encoded_signal = encoder.predict(test_data) \n",
    "    final_signal = encoded_signal + noise\n",
    "    pred_final_signal =  decoder.predict(final_signal)\n",
    "    pred_output = np.argmax(pred_final_signal,axis=1)\n",
    "    no_errors = (pred_output != test_label)\n",
    "    no_errors =  no_errors.astype(int).sum()\n",
    "    ber[n] = no_errors / nn \n",
    "    print ('SNR:',EbNodB_range[n],'BER:',ber[n])"
   ]
  },
  {
   "cell_type": "code",
   "execution_count": null,
   "id": "02dd5c05",
   "metadata": {},
   "outputs": [],
   "source": []
  },
  {
   "cell_type": "code",
   "execution_count": 76,
   "id": "cdbda816",
   "metadata": {},
   "outputs": [
    {
     "ename": "NameError",
     "evalue": "name 'ber_theory' is not defined",
     "output_type": "error",
     "traceback": [
      "\u001b[1;31m---------------------------------------------------------------------------\u001b[0m",
      "\u001b[1;31mNameError\u001b[0m                                 Traceback (most recent call last)",
      "\u001b[1;32m<ipython-input-76-e8024b24777c>\u001b[0m in \u001b[0;36m<module>\u001b[1;34m\u001b[0m\n\u001b[0;32m      1\u001b[0m \u001b[1;32mimport\u001b[0m \u001b[0mmatplotlib\u001b[0m\u001b[1;33m.\u001b[0m\u001b[0mpyplot\u001b[0m \u001b[1;32mas\u001b[0m \u001b[0mplt\u001b[0m\u001b[1;33m\u001b[0m\u001b[1;33m\u001b[0m\u001b[0m\n\u001b[0;32m      2\u001b[0m \u001b[0mplt\u001b[0m\u001b[1;33m.\u001b[0m\u001b[0mplot\u001b[0m\u001b[1;33m(\u001b[0m\u001b[0mEbNodB_range\u001b[0m\u001b[1;33m,\u001b[0m \u001b[0mber\u001b[0m\u001b[1;33m,\u001b[0m \u001b[1;34m'bo'\u001b[0m\u001b[1;33m,\u001b[0m\u001b[0mlabel\u001b[0m\u001b[1;33m=\u001b[0m\u001b[1;34m'Autoencoder(7,4)'\u001b[0m\u001b[1;33m)\u001b[0m\u001b[1;33m\u001b[0m\u001b[1;33m\u001b[0m\u001b[0m\n\u001b[1;32m----> 3\u001b[1;33m \u001b[0mplt\u001b[0m\u001b[1;33m.\u001b[0m\u001b[0mplot\u001b[0m\u001b[1;33m(\u001b[0m\u001b[0mlist\u001b[0m\u001b[1;33m(\u001b[0m\u001b[0mEbNodB_range\u001b[0m\u001b[1;33m)\u001b[0m\u001b[1;33m,\u001b[0m \u001b[0mber_theory\u001b[0m\u001b[1;33m,\u001b[0m \u001b[1;34m'ro-'\u001b[0m\u001b[1;33m,\u001b[0m\u001b[0mlabel\u001b[0m\u001b[1;33m=\u001b[0m\u001b[1;34m'BPSK BER'\u001b[0m\u001b[1;33m)\u001b[0m\u001b[1;33m\u001b[0m\u001b[1;33m\u001b[0m\u001b[0m\n\u001b[0m\u001b[0;32m      4\u001b[0m \u001b[0mplt\u001b[0m\u001b[1;33m.\u001b[0m\u001b[0myscale\u001b[0m\u001b[1;33m(\u001b[0m\u001b[1;34m'log'\u001b[0m\u001b[1;33m)\u001b[0m\u001b[1;33m\u001b[0m\u001b[1;33m\u001b[0m\u001b[0m\n\u001b[0;32m      5\u001b[0m \u001b[0mplt\u001b[0m\u001b[1;33m.\u001b[0m\u001b[0mxlabel\u001b[0m\u001b[1;33m(\u001b[0m\u001b[1;34m'SNR Range'\u001b[0m\u001b[1;33m)\u001b[0m\u001b[1;33m\u001b[0m\u001b[1;33m\u001b[0m\u001b[0m\n",
      "\u001b[1;31mNameError\u001b[0m: name 'ber_theory' is not defined"
     ]
    },
    {
     "data": {
      "image/png": "[encoded data removed]",
      "text/plain": [
       "<Figure size 432x288 with 1 Axes>"
      ]
     },
     "metadata": {
      "needs_background": "light"
     },
     "output_type": "display_data"
    }
   ],
   "source": [
    "import matplotlib.pyplot as plt\n",
    "plt.plot(EbNodB_range, ber, 'bo',label='Autoencoder(7,4)')\n",
    "plt.plot(list(EbNodB_range), ber_theory, 'ro-',label='BPSK BER')\n",
    "plt.yscale('log')\n",
    "plt.xlabel('SNR Range')\n",
    "plt.ylabel('Block Error Rate')\n",
    "plt.grid()\n",
    "plt.legend(loc='upper right',ncol = 1)"
   ]
  },
  {
   "cell_type": "code",
   "execution_count": 77,
   "id": "78a06adf",
   "metadata": {},
   "outputs": [
    {
     "data": {
      "text/plain": [
       "<Figure size 432x288 with 0 Axes>"
      ]
     },
     "metadata": {},
     "output_type": "display_data"
    }
   ],
   "source": [
    "plt.savefig('AutoEncoder_7_4_BER_matplotlib')\n",
    "plt.show()"
   ]
  }
 ],
 "metadata": {
  "kernelspec": {
   "display_name": "Python 3",
   "language": "python",
   "name": "python3"
  },
  "language_info": {
   "codemirror_mode": {
    "name": "ipython",
    "version": 3
   },
   "file_extension": ".py",
   "mimetype": "text/x-python",
   "name": "python",
   "nbconvert_exporter": "python",
   "pygments_lexer": "ipython3",
   "version": "3.8.8"
  }
 },
 "nbformat": 4,
 "nbformat_minor": 5
}
